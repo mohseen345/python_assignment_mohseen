{
 "cells": [
  {
   "cell_type": "markdown",
   "metadata": {},
   "source": [
    "for loop"
   ]
  },
  {
   "cell_type": "markdown",
   "metadata": {},
   "source": [
    "1.write a python program to print numbers from 1 to 10 a for loop?"
   ]
  },
  {
   "cell_type": "code",
   "execution_count": 56,
   "metadata": {},
   "outputs": [
    {
     "name": "stdout",
     "output_type": "stream",
     "text": [
      "0\n",
      "1\n",
      "2\n",
      "3\n",
      "4\n",
      "5\n",
      "6\n",
      "7\n",
      "8\n",
      "9\n",
      "10\n"
     ]
    }
   ],
   "source": [
    "for i in range(11):\n",
    "    print(i)"
   ]
  },
  {
   "cell_type": "markdown",
   "metadata": {},
   "source": [
    "2.explain the difference between a for loop and a while loop in python?"
   ]
  },
  {
   "cell_type": "markdown",
   "metadata": {},
   "source": [
    "while loop= we use while loop when the condition has to be done\n",
    "for loop= we use for loop , to iterates the characters and numbers"
   ]
  },
  {
   "cell_type": "markdown",
   "metadata": {},
   "source": [
    "3.write a python program to calculate the sum of all numbers from 1 to 100 using for loop"
   ]
  },
  {
   "cell_type": "code",
   "execution_count": 57,
   "metadata": {},
   "outputs": [
    {
     "name": "stdout",
     "output_type": "stream",
     "text": [
      "5050\n"
     ]
    }
   ],
   "source": [
    "sum=0\n",
    "for  i in range(1,101):\n",
    "    sum=sum+i\n",
    "print(sum)"
   ]
  },
  {
   "cell_type": "markdown",
   "metadata": {},
   "source": [
    "4. How do you iterate through a list using a for loop in Python?"
   ]
  },
  {
   "cell_type": "code",
   "execution_count": 58,
   "metadata": {},
   "outputs": [
    {
     "name": "stdout",
     "output_type": "stream",
     "text": [
      "1\n",
      "2\n",
      "3\n",
      "4\n",
      "5\n",
      "6\n"
     ]
    }
   ],
   "source": [
    "l=[1,2,3,4,5,6]\n",
    "for i in l:\n",
    "    print(i)"
   ]
  },
  {
   "cell_type": "markdown",
   "metadata": {},
   "source": [
    "5. Write a Python program to find the product of all elements in a list using a for loop"
   ]
  },
  {
   "cell_type": "code",
   "execution_count": 59,
   "metadata": {},
   "outputs": [
    {
     "name": "stdout",
     "output_type": "stream",
     "text": [
      "0\n"
     ]
    }
   ],
   "source": [
    "l=[1,2,3,4,5]\n",
    "product=0\n",
    "for i in l:\n",
    "    product=product*i\n",
    "print(product) "
   ]
  },
  {
   "cell_type": "markdown",
   "metadata": {},
   "source": [
    "\n",
    "6. Create a Python program that prints all even numbers from 1 to 20 using a for loop"
   ]
  },
  {
   "cell_type": "code",
   "execution_count": 60,
   "metadata": {},
   "outputs": [
    {
     "name": "stdout",
     "output_type": "stream",
     "text": [
      "1\n",
      "3\n",
      "5\n",
      "7\n",
      "9\n",
      "11\n",
      "13\n",
      "15\n",
      "17\n",
      "19\n"
     ]
    }
   ],
   "source": [
    "for i in range (1,21):\n",
    "    if i%2!=0:\n",
    "        print(i)"
   ]
  },
  {
   "cell_type": "markdown",
   "metadata": {},
   "source": [
    "7. Write a Python program that calculates the factorial of a number using a for loop."
   ]
  },
  {
   "cell_type": "code",
   "execution_count": 61,
   "metadata": {},
   "outputs": [
    {
     "name": "stdout",
     "output_type": "stream",
     "text": [
      "the factorial of the number is 5040\n"
     ]
    }
   ],
   "source": [
    "a=int(input(\"enter any number you want\"))\n",
    "f=1\n",
    "for i in range(1,a+1):\n",
    "    f=f*i\n",
    "print(f'the factorial of the number is {f}')"
   ]
  },
  {
   "cell_type": "markdown",
   "metadata": {},
   "source": [
    "8. How can you iterate through the characters of a string using a for loop in Python?"
   ]
  },
  {
   "cell_type": "code",
   "execution_count": 62,
   "metadata": {},
   "outputs": [
    {
     "name": "stdout",
     "output_type": "stream",
     "text": [
      "M\n",
      "o\n",
      "h\n",
      "s\n",
      "e\n",
      "e\n",
      "n\n"
     ]
    }
   ],
   "source": [
    "s=\"Mohseen\"\n",
    "for i in s:\n",
    "    print(i)"
   ]
  },
  {
   "cell_type": "markdown",
   "metadata": {},
   "source": [
    "9. Write a Python program to find the largest number in a list using a for loop."
   ]
  },
  {
   "cell_type": "code",
   "execution_count": 63,
   "metadata": {},
   "outputs": [
    {
     "name": "stdout",
     "output_type": "stream",
     "text": [
      "largest element is 5\n",
      "largest element is 5\n",
      "largest element is 5\n",
      "largest element is 5\n",
      "largest element is 5\n"
     ]
    }
   ],
   "source": [
    "l=[1,2,3,4,5]\n",
    "for i in l:\n",
    "    print(\"largest element is\",max(l))"
   ]
  },
  {
   "cell_type": "markdown",
   "metadata": {},
   "source": [
    "\n",
    "10. Create a Python program that prints the Fibonacci sequence up to a specified limit using a for\n",
    "loop"
   ]
  },
  {
   "cell_type": "code",
   "execution_count": 64,
   "metadata": {},
   "outputs": [],
   "source": [
    "def fibonacci(n):\n",
    "    a,b=0,1\n",
    "    for i in range(n):\n",
    "        a,b=b ,a+b\n",
    "        print(a)"
   ]
  },
  {
   "cell_type": "code",
   "execution_count": 65,
   "metadata": {},
   "outputs": [
    {
     "name": "stdout",
     "output_type": "stream",
     "text": [
      "1\n",
      "1\n",
      "2\n",
      "3\n",
      "5\n"
     ]
    }
   ],
   "source": [
    "fibonacci(5)"
   ]
  },
  {
   "cell_type": "markdown",
   "metadata": {},
   "source": [
    "11. Write a Python program to count the number of vowels in a given string using a for loop"
   ]
  },
  {
   "cell_type": "code",
   "execution_count": 50,
   "metadata": {},
   "outputs": [
    {
     "name": "stdout",
     "output_type": "stream",
     "text": [
      "number of vowels in the string 3\n"
     ]
    }
   ],
   "source": [
    "def count_vowels(string):\n",
    "    vowels=\"aeiouAEIOU\"\n",
    "    count=0\n",
    "    for char in string:\n",
    "        if char in vowels:\n",
    "            count+=1\n",
    "    return count\n",
    "#test the function\n",
    "input_string= input(\"enter the string \")\n",
    "num_vowels=count_vowels(input_string)\n",
    "print(\"number of vowels in the string\",num_vowels)"
   ]
  },
  {
   "cell_type": "markdown",
   "metadata": {},
   "source": [
    "12. Create a Python program that generates a multiplication table for a given number using a for\n",
    "loop"
   ]
  },
  {
   "cell_type": "code",
   "execution_count": null,
   "metadata": {},
   "outputs": [
    {
     "name": "stdout",
     "output_type": "stream",
     "text": [
      "5 * 1 = 5\n",
      "5 * 2 = 10\n",
      "5 * 3 = 15\n",
      "5 * 4 = 20\n",
      "5 * 5 = 25\n",
      "5 * 6 = 30\n",
      "5 * 7 = 35\n",
      "5 * 8 = 40\n",
      "5 * 9 = 45\n",
      "5 * 10 = 50\n"
     ]
    }
   ],
   "source": [
    "num=int(input(\"enter any number\"))\n",
    "ourrange=range(1,11)\n",
    "for x in ourrange:\n",
    "    result=num*x\n",
    "    print(num,\"*\",x,\"=\",result)"
   ]
  },
  {
   "cell_type": "markdown",
   "metadata": {},
   "source": [
    "13. Write a Python program to reverse a list using a for loop"
   ]
  },
  {
   "cell_type": "code",
   "execution_count": null,
   "metadata": {},
   "outputs": [
    {
     "name": "stdout",
     "output_type": "stream",
     "text": [
      "[65, 67, 33, 23]\n"
     ]
    }
   ],
   "source": [
    "list1=[23,33,67,65]\n",
    "l=[]\n",
    "for i in list1:\n",
    "    l.insert(0,i)\n",
    "print(l)"
   ]
  },
  {
   "cell_type": "markdown",
   "metadata": {},
   "source": [
    "14. Write a Python program to find the common elements between two lists using a for loop"
   ]
  },
  {
   "cell_type": "code",
   "execution_count": null,
   "metadata": {},
   "outputs": [
    {
     "name": "stdout",
     "output_type": "stream",
     "text": [
      "[3, 4, 5]\n"
     ]
    }
   ],
   "source": [
    "def find_common_elements(list1,list2):\n",
    "    result=[]\n",
    "    for element in list1:\n",
    "        if element in list2:\n",
    "            result.append(element)\n",
    "    return result\n",
    "list1=[1,2,3,4,5]\n",
    "list2=[3,4,5,6,7]\n",
    "common_elements=find_common_elements(list1,list2)\n",
    "print(common_elements)"
   ]
  },
  {
   "cell_type": "markdown",
   "metadata": {},
   "source": [
    "15. Explain how to use a for loop to iterate through the keys and values of a dictionary in Python\n"
   ]
  },
  {
   "cell_type": "code",
   "execution_count": null,
   "metadata": {},
   "outputs": [
    {
     "name": "stdout",
     "output_type": "stream",
     "text": [
      "x1 1\n",
      "x2 2\n",
      "x3 3\n"
     ]
    }
   ],
   "source": [
    "dict1={\"x1\":1,\"x2\":2,\"x3\":3}\n",
    "for key in dict1:\n",
    "    print(key,dict1[key])"
   ]
  },
  {
   "cell_type": "markdown",
   "metadata": {},
   "source": [
    "16. Write a Python program to find the GCD (Greatest Common Divisor) of two numbers using a for\n",
    "loop"
   ]
  },
  {
   "cell_type": "code",
   "execution_count": null,
   "metadata": {},
   "outputs": [
    {
     "name": "stdout",
     "output_type": "stream",
     "text": [
      "the computed gcd of 86 and 44 is2\n"
     ]
    }
   ],
   "source": [
    "#the math module contains the gcd function\n",
    "import math\n",
    "x=86\n",
    "y=44\n",
    "n=max(x,y)\n",
    "gcd=0\n",
    "for i in range(1,n+1):\n",
    "    if x%i==0 and y%i==0:\n",
    "        gcd=i\n",
    "print(f\"the computed gcd of {x} and {y} is{gcd}\")"
   ]
  },
  {
   "cell_type": "markdown",
   "metadata": {},
   "source": [
    "17. Create a Python program that checks if a string is a palindrome using a for loop"
   ]
  },
  {
   "cell_type": "code",
   "execution_count": null,
   "metadata": {},
   "outputs": [
    {
     "name": "stdout",
     "output_type": "stream",
     "text": [
      "racecar is a palindrome\n"
     ]
    }
   ],
   "source": [
    "def is_palindrome(string):\n",
    "    string=string.lower().replace(\" \",\"\")\n",
    "    for i in range(len(string)//2):\n",
    "        if string[i] !=string[len(string)-i-1]:\n",
    "            return False\n",
    "        return True\n",
    "string=\"racecar\"\n",
    "if is_palindrome(string):\n",
    "    print(string,\"is a palindrome\")\n",
    "else:\n",
    "    print(string,\"is not a palindrome\")"
   ]
  },
  {
   "cell_type": "markdown",
   "metadata": {},
   "source": [
    "18. Write a Python program to remove duplicates from a list using a for loop"
   ]
  },
  {
   "cell_type": "code",
   "execution_count": null,
   "metadata": {},
   "outputs": [
    {
     "name": "stdout",
     "output_type": "stream",
     "text": [
      "the list is[11, 12, 13, 11, 13, 12, 14, 15]\n",
      "the list after removal of duplicates[11, 12, 13, 14, 15]\n"
     ]
    }
   ],
   "source": [
    "list1=[11,12,13,11,13,12,14,15]\n",
    "print(\"the list is\"+str(list1))\n",
    "result=[]\n",
    "[result.append(x) for x in list1 if x not in result]\n",
    "print(\"the list after removal of duplicates\"+str(result))"
   ]
  },
  {
   "cell_type": "markdown",
   "metadata": {},
   "source": [
    "19. Create a Python program that counts the number of words in a sentence using a for loop."
   ]
  },
  {
   "cell_type": "code",
   "execution_count": null,
   "metadata": {},
   "outputs": [
    {
     "name": "stdout",
     "output_type": "stream",
     "text": [
      "4\n"
     ]
    }
   ],
   "source": [
    "def count_words(sentence):\n",
    "    words=sentence.split()\n",
    "    count=0\n",
    "    for word in words:\n",
    "        count+=1\n",
    "    return count\n",
    "sentence=\"this is a sentence\"\n",
    "count=count_words(sentence)\n",
    "print(count)"
   ]
  },
  {
   "cell_type": "markdown",
   "metadata": {},
   "source": [
    "20. Write a Python program to find the sum of all odd numbers from 1 to 50 using a for loop"
   ]
  },
  {
   "cell_type": "code",
   "execution_count": null,
   "metadata": {},
   "outputs": [
    {
     "name": "stdout",
     "output_type": "stream",
     "text": [
      "sum of odd number is 625\n"
     ]
    }
   ],
   "source": [
    "result=0\n",
    "for x in range(1,50):\n",
    "    if (x%2==1):\n",
    "        result=result+x\n",
    "print(\"sum of odd number is\",result)"
   ]
  },
  {
   "cell_type": "markdown",
   "metadata": {},
   "source": [
    "21. Write a Python program that checks if a given year is a leap year using a for loop"
   ]
  },
  {
   "cell_type": "code",
   "execution_count": null,
   "metadata": {},
   "outputs": [
    {
     "name": "stdout",
     "output_type": "stream",
     "text": [
      "6 is a leap year\n"
     ]
    }
   ],
   "source": [
    "def is_leap_year(year):\n",
    "    for i in range(year):\n",
    "        if i%4==0 and i%100 !=0 or i%400 ==0 :\n",
    "            return False\n",
    "        return True\n",
    "year=int(input(\"Enter a year\"))\n",
    "if is_leap_year(year):\n",
    "    print(f\"{year} is a leap year\")\n",
    "else:\n",
    "    print(f\"{year} is a leap year\")"
   ]
  },
  {
   "cell_type": "markdown",
   "metadata": {},
   "source": [
    "22. Create a Python program that calculates the square root of a number using a for loop"
   ]
  },
  {
   "cell_type": "code",
   "execution_count": null,
   "metadata": {},
   "outputs": [
    {
     "name": "stdout",
     "output_type": "stream",
     "text": [
      "the square root of 9.000 is 3.000\n"
     ]
    }
   ],
   "source": [
    "num=9\n",
    "num_sqrt=num**0.5\n",
    "print(\"the square root of %0.3f is %0.3f\"%(num,num_sqrt))"
   ]
  },
  {
   "cell_type": "markdown",
   "metadata": {},
   "source": [
    "23. Write a Python program to find the LCM (Least Common Multiple) of two numbers using a for\n",
    "loop"
   ]
  },
  {
   "cell_type": "code",
   "execution_count": null,
   "metadata": {},
   "outputs": [
    {
     "name": "stdout",
     "output_type": "stream",
     "text": [
      "the lcm of 12 and 14 is 84\n"
     ]
    }
   ],
   "source": [
    "def lcm(x,y):\n",
    "    if x>y:\n",
    "        greater=x\n",
    "    else:\n",
    "        greater=y\n",
    "    for i in range(greater,(x*y)+1):\n",
    "        if (i%x==0) and (i%y==0):\n",
    "            lcm=i\n",
    "            break\n",
    "    return lcm\n",
    "num1=12\n",
    "num2=14\n",
    "print('the lcm of',num1,'and',num2,'is',lcm(num1,num2))\n"
   ]
  },
  {
   "cell_type": "markdown",
   "metadata": {},
   "source": [
    "If else :"
   ]
  },
  {
   "cell_type": "markdown",
   "metadata": {},
   "source": [
    "1. Write a Python program to check if a number is positive, negative, or zero using an if-else\n",
    "statement"
   ]
  },
  {
   "cell_type": "code",
   "execution_count": null,
   "metadata": {},
   "outputs": [
    {
     "name": "stdout",
     "output_type": "stream",
     "text": [
      "this is positive number\n"
     ]
    }
   ],
   "source": [
    "num=20\n",
    "if num=='-':\n",
    "    print(\"this is negative number\")\n",
    "elif num==0:\n",
    "    print(\"this is zero\")\n",
    "else:\n",
    "        print(\"this is positive number\")"
   ]
  },
  {
   "cell_type": "markdown",
   "metadata": {},
   "source": [
    "\n",
    "2. Create a Python program that checks if a given number is even or odd using an if-else statement"
   ]
  },
  {
   "cell_type": "code",
   "execution_count": null,
   "metadata": {},
   "outputs": [
    {
     "name": "stdout",
     "output_type": "stream",
     "text": [
      "this is even number\n"
     ]
    }
   ],
   "source": [
    "num=int(input(\"enter a number\"))\n",
    "if num%2:\n",
    "        print(\"this is even number\")\n",
    "else:\n",
    "        print(\"this is odd number\")"
   ]
  },
  {
   "cell_type": "markdown",
   "metadata": {},
   "source": [
    "3. How can you use nested if-else statements in Python, and provide an example?"
   ]
  },
  {
   "cell_type": "markdown",
   "metadata": {},
   "source": [
    "Nested if-else statements in Python allow you to have multiple levels of conditional logic within your code. You can use them when you need to check for additional conditions based on the outcome of an initial condition."
   ]
  },
  {
   "cell_type": "code",
   "execution_count": 35,
   "metadata": {},
   "outputs": [
    {
     "name": "stdout",
     "output_type": "stream",
     "text": [
      "The grade for a score of 75 is C\n"
     ]
    }
   ],
   "source": [
    "def grade_score(score):\n",
    "    if score >= 90:\n",
    "        grade = 'A'\n",
    "    else:\n",
    "        if score >= 80:\n",
    "            grade = 'B'\n",
    "        else:\n",
    "            if score >= 70:\n",
    "                grade = 'C'\n",
    "            else:\n",
    "                if score >= 60:\n",
    "                    grade = 'D'\n",
    "                else:\n",
    "                    grade = 'F'\n",
    "    return grade\n",
    "\n",
    "# Test the function\n",
    "test_score = 75\n",
    "print(\"The grade for a score of\", test_score, \"is\", grade_score(test_score))\n"
   ]
  },
  {
   "cell_type": "markdown",
   "metadata": {},
   "source": [
    "4. Write a Python program to determine the largest of three numbers using if-else"
   ]
  },
  {
   "cell_type": "code",
   "execution_count": null,
   "metadata": {},
   "outputs": [
    {
     "name": "stdout",
     "output_type": "stream",
     "text": [
      "the largest number is  20\n"
     ]
    }
   ],
   "source": [
    "num1=10\n",
    "num2=14\n",
    "num3=20\n",
    "if (num1>=num2)and(num1>=num3):\n",
    "    largest=num1\n",
    "elif(num2>=num1)and(num2>=num3):\n",
    "    largest=num2\n",
    "else:\n",
    "        largest=num3\n",
    "print(\"the largest number is \",largest)"
   ]
  },
  {
   "cell_type": "markdown",
   "metadata": {},
   "source": [
    "5. Write a Python program that calculates the absolute value of a number using if-else"
   ]
  },
  {
   "cell_type": "code",
   "execution_count": 34,
   "metadata": {},
   "outputs": [
    {
     "name": "stdout",
     "output_type": "stream",
     "text": [
      "the absolute number of 65.0 is 65.0\n"
     ]
    }
   ],
   "source": [
    "def absolute_number(number):\n",
    "    if number>=0:\n",
    "        return  number\n",
    "    else:\n",
    "        return -number\n",
    "num=float(input(\"Enter the number\"))\n",
    "absolute_num=absolute_number(num)\n",
    "print(\"the absolute number of\",num,\"is\",absolute_num)"
   ]
  },
  {
   "cell_type": "markdown",
   "metadata": {},
   "source": [
    "6. Create a Python program that checks if a given character is a vowel or consonant using if-else."
   ]
  },
  {
   "cell_type": "code",
   "execution_count": null,
   "metadata": {},
   "outputs": [
    {
     "name": "stdout",
     "output_type": "stream",
     "text": [
      "Consonant\n",
      "Vowel\n"
     ]
    }
   ],
   "source": [
    "def vowelOrConsonant(x): \n",
    "\n",
    "\tif (x == 'a' or x == 'e' or\n",
    "\t\tx == 'i' or x == 'o' or x == 'u'): \n",
    "\t\tprint(\"Vowel\") \n",
    "\telse: \n",
    "\t\tprint(\"Consonant\")\n",
    "vowelOrConsonant('c') \n",
    "vowelOrConsonant('e')"
   ]
  },
  {
   "cell_type": "markdown",
   "metadata": {},
   "source": [
    "7. Write a Python program to determine if a user is eligible to vote based on their age using if-else"
   ]
  },
  {
   "cell_type": "code",
   "execution_count": null,
   "metadata": {},
   "outputs": [
    {
     "name": "stdout",
     "output_type": "stream",
     "text": [
      "the person is not eligible for vote\n"
     ]
    }
   ],
   "source": [
    "num=2\n",
    "if num>=18:\n",
    "    print(\"the person is eligible for vote\")\n",
    "else:\n",
    "        print(\"the person is not eligible for vote\")"
   ]
  },
  {
   "cell_type": "markdown",
   "metadata": {},
   "source": [
    "8. Create a Python program that calculates the discount amount based on the purchase amount\n",
    "using if-else."
   ]
  },
  {
   "cell_type": "code",
   "execution_count": null,
   "metadata": {},
   "outputs": [
    {
     "name": "stdout",
     "output_type": "stream",
     "text": [
      "Discount : 49.00000000000001\n"
     ]
    }
   ],
   "source": [
    "def getDiscount(amount):\n",
    "\tif amount <= 0:\n",
    "\t\treturn 0\n",
    "\telif amount <= 100:\n",
    "\t\treturn amount*.02\n",
    "\telif amount <= 500:\n",
    "\t\treturn amount*.05\n",
    "\telif amount <= 1000:\n",
    "\t\treturn amount*.07\n",
    "\telse:\n",
    "\t\treturn amount*.1\n",
    "\n",
    "\n",
    "selling_price = int(input(\"Enter selling price : \"))\n",
    "discount = getDiscount(selling_price)\n",
    "\n",
    "print(\"Discount : {}\".format(discount))"
   ]
  },
  {
   "cell_type": "markdown",
   "metadata": {},
   "source": [
    "9. Write a Python program to check if a number is within a specified range using if-else"
   ]
  },
  {
   "cell_type": "code",
   "execution_count": null,
   "metadata": {},
   "outputs": [],
   "source": [
    "def check_within_range(number, start, end):\n",
    "    if start <= number <= end:\n",
    "        return True\n",
    "    else:\n",
    "        return False\n",
    "\n",
    "# Input number and range\n",
    "number = float(input(\"Enter a number: \"))\n",
    "start = float(input(\"Enter the start of the range: \"))\n",
    "end = float(input(\"Enter the end of the range: \"))\n",
    "\n",
    "# Check if the number is within the specified range\n",
    "if check_within_range(number, start, end):\n",
    "    print(f\"{number} is within the range [{start}, {end}]\")\n",
    "else:\n",
    "    print(f\"{number} is not within the range [{start}, {end}]\")\n"
   ]
  },
  {
   "cell_type": "markdown",
   "metadata": {},
   "source": [
    "10. Create a Python program that determines the grade of a student based on their score using\n",
    "if-else"
   ]
  },
  {
   "cell_type": "code",
   "execution_count": null,
   "metadata": {},
   "outputs": [
    {
     "name": "stdout",
     "output_type": "stream",
     "text": [
      "Enter Marks Obtained in 5 Subjects: \n",
      "Your Grade is B1\n"
     ]
    }
   ],
   "source": [
    "print(\"Enter Marks Obtained in 5 Subjects: \")\n",
    "total1 = 44\n",
    "total2 = 67\n",
    "total3 = 76\n",
    "total4 = 99\n",
    "total5 = 58\n",
    "\n",
    "tot = total1 + total2 + total3 + total4 + total4\n",
    "avg = tot / 5\n",
    "\n",
    "if avg >= 91 and avg <= 100:\n",
    "\tprint(\"Your Grade is A1\")\n",
    "elif avg >= 81 and avg < 91:\n",
    "\tprint(\"Your Grade is A2\")\n",
    "elif avg >= 71 and avg < 81:\n",
    "\tprint(\"Your Grade is B1\")\n",
    "elif avg >= 61 and avg < 71:\n",
    "\tprint(\"Your Grade is B2\")\n",
    "elif avg >= 51 and avg < 61:\n",
    "\tprint(\"Your Grade is C1\")\n",
    "elif avg >= 41 and avg < 51:\n",
    "\tprint(\"Your Grade is C2\")\n",
    "elif avg >= 33 and avg < 41:\n",
    "\tprint(\"Your Grade is D\")\n",
    "elif avg >= 21 and avg < 33:\n",
    "\tprint(\"Your Grade is E1\")\n",
    "elif avg >= 0 and avg < 21:\n",
    "\tprint(\"Your Grade is E2\")\n",
    "else:\n",
    "\tprint(\"Invalid Input!\")\n"
   ]
  },
  {
   "cell_type": "markdown",
   "metadata": {},
   "source": [
    "11. Write a Python program to check if a string is empty or not using if-else.\n"
   ]
  },
  {
   "cell_type": "code",
   "execution_count": 32,
   "metadata": {},
   "outputs": [
    {
     "name": "stdout",
     "output_type": "stream",
     "text": [
      "string is not empty\n",
      "string is empty\n"
     ]
    }
   ],
   "source": [
    "def check_empty_string(string):\n",
    "    if string:\n",
    "        print(\"string is not empty\")\n",
    "    else:\n",
    "        print(\"string is empty\")\n",
    "string1=\"hello world\"\n",
    "string2=\"\"\n",
    "check_empty_string(string1)\n",
    "check_empty_string(string2)"
   ]
  },
  {
   "cell_type": "markdown",
   "metadata": {},
   "source": [
    "12. Create a Python program that identifies the type of a triangle (e.g., equilateral, isosceles, or\n",
    "scalene) based on input values using if-else"
   ]
  },
  {
   "cell_type": "code",
   "execution_count": null,
   "metadata": {},
   "outputs": [
    {
     "name": "stdout",
     "output_type": "stream",
     "text": [
      "Input lengths of the triangle sides: \n",
      "Scalene triangle\n"
     ]
    }
   ],
   "source": [
    "# Display a message prompting the user to input lengths of the sides of a triangle\n",
    "print(\"Input lengths of the triangle sides: \")\n",
    "\n",
    "# Request input from the user for the length of side 'x' and convert it to an integer\n",
    "x = int(input(\"x: \"))\n",
    "\n",
    "# Request input from the user for the length of side 'y' and convert it to an integer\n",
    "y = int(input(\"y: \"))\n",
    "\n",
    "# Request input from the user for the length of side 'z' and convert it to an integer\n",
    "z = int(input(\"z: \"))\n",
    "\n",
    "# Check conditions to determine the type of triangle based on the lengths of its sides\n",
    "\n",
    "# If all sides are equal, display that it's an equilateral triangle\n",
    "if x == y == z:\n",
    "    print(\"Equilateral triangle\")\n",
    "# If at least two sides are equal, display that it's an isosceles triangle\n",
    "elif x == y or y == z or z == x:\n",
    "    print(\"Isosceles triangle\")\n",
    "# If all sides have different lengths, display that it's a scalene triangle\n",
    "else:\n",
    "    print(\"Scalene triangle\") "
   ]
  },
  {
   "cell_type": "markdown",
   "metadata": {},
   "source": [
    "13. Write a Python program to determine the day of the week based on a user-provided number\n",
    "using if-else"
   ]
  },
  {
   "cell_type": "code",
   "execution_count": null,
   "metadata": {},
   "outputs": [
    {
     "name": "stdout",
     "output_type": "stream",
     "text": [
      "\n",
      "Friday\n"
     ]
    }
   ],
   "source": [
    "weekday = int(input(\"Enter weekday day number (1-7) : \"))\n",
    "\n",
    "if weekday == 1 :\n",
    "    print(\"\\nMonday\");\n",
    "\n",
    "elif weekday == 2 :\n",
    "    print(\"\\nTuesday\")\n",
    "\n",
    "elif(weekday == 3) :\n",
    "    print(\"\\nWednesday\")\n",
    "\n",
    "elif(weekday == 4) :\n",
    "    print(\"\\nThursday\")\n",
    "\n",
    "elif(weekday == 5) :\n",
    "    print(\"\\nFriday\")\n",
    "\n",
    "elif(weekday == 6) :\n",
    "    print(\"\\nSaturday\")\n",
    "\n",
    "elif (weekday == 7) :\n",
    "    print(\"\\nSunday\")\n",
    "\n",
    "else :\n",
    "    print(\"\\nPlease enter weekday number between 1-7.\")"
   ]
  },
  {
   "cell_type": "markdown",
   "metadata": {},
   "source": [
    "14. Create a Python program that checks if a given year is a leap year using both if-else and a\n",
    "function"
   ]
  },
  {
   "cell_type": "code",
   "execution_count": null,
   "metadata": {},
   "outputs": [
    {
     "name": "stdout",
     "output_type": "stream",
     "text": [
      "8 is a Leap Year\n"
     ]
    }
   ],
   "source": [
    "year = int(input(\"Enter Year: \"))\n",
    "\n",
    "if year % 4 == 0 and year % 100 != 0:\n",
    "    print(year, \"is a Leap Year\")\n",
    "elif year % 100 == 0:\n",
    "    print(year, \"is not a Leap Year\")\n",
    "elif year % 400 ==0:\n",
    "    print(year, \"is a Leap Year\")\n",
    "else:\n",
    "    print(year, \"is not a Leap Year\")\n"
   ]
  },
  {
   "cell_type": "markdown",
   "metadata": {},
   "source": [
    "15 How do you use the \"assert\" statement in Python to add debugging checks within if-else blocks"
   ]
  },
  {
   "cell_type": "markdown",
   "metadata": {},
   "source": [
    "Assertions are statements that assert or state a fact confidently in your program. For example, while writing a division function, you're confident the divisor shouldn't be zero, you assert divisor is not equal to zero.\n",
    "\n",
    "Assertions are simply boolean expressions that check if the conditions return true or not. If it is true, the program does nothing and moves to the next line of code. However, if it's false, the program stops and throws an error.\n",
    "\n",
    "It is also a debugging tool as it halts the program as soon as an error occurs and displays it."
   ]
  },
  {
   "cell_type": "markdown",
   "metadata": {},
   "source": [
    "16.Create a Python program that determines the eligibility of a person for a senior citizen discount\n",
    "based on age using if-else"
   ]
  },
  {
   "cell_type": "code",
   "execution_count": null,
   "metadata": {},
   "outputs": [
    {
     "name": "stdout",
     "output_type": "stream",
     "text": [
      "you have to given a 20% discount\n"
     ]
    }
   ],
   "source": [
    "age=int(input(\"enter your age\"))\n",
    "if age >=60:\n",
    "    print(\"you have to given a 20% discount\")\n",
    "if age>70:\n",
    "    print(\"you have to given 30% discount \")\n"
   ]
  },
  {
   "cell_type": "markdown",
   "metadata": {},
   "source": [
    "17. Write a Python program to categorize a given character as uppercase, lowercase, or neither\n",
    "using if-else"
   ]
  },
  {
   "cell_type": "code",
   "execution_count": null,
   "metadata": {},
   "outputs": [
    {
     "name": "stdout",
     "output_type": "stream",
     "text": [
      "the given character mohseen is an lowercase alphabet\n"
     ]
    }
   ],
   "source": [
    "#check your character is lower and uppercase\n",
    "ch=input(\"please enter your own character\")\n",
    "if (ch.islower()):\n",
    "    print(\"the given character\",ch,\"is an lowercase alphabet\")\n",
    "elif(ch.isupper()):\n",
    "    print(\"the given character \",ch,\"is uppercase alphabet\")\n",
    "else:\n",
    "    print(\"the given character \",ch,\"is not a lower or uppercase alphabet\")"
   ]
  },
  {
   "cell_type": "markdown",
   "metadata": {},
   "source": [
    "18. Write a Python program to determine the roots of a quadratic equation using if-else"
   ]
  },
  {
   "cell_type": "code",
   "execution_count": null,
   "metadata": {},
   "outputs": [
    {
     "name": "stdout",
     "output_type": "stream",
     "text": [
      "Two Distinct Complex Roots Exists: root1 = -138.00+1.68 and root2 = -138.00-1.68\n"
     ]
    }
   ],
   "source": [
    "import math\n",
    "a=int(input(\"enter your  first number\"))\n",
    "b=int(input(\"enter your second number\"))\n",
    "c=int(input(\"enter your third number\"))\n",
    "discriminant=(b*b)-(4*a*c)\n",
    "if (discriminant>0):\n",
    "    root1=(-b+math.sqrt(discriminant)/(2*a))\n",
    "    root2=(-b-math.sqrt(discriminant)/(2*a))\n",
    "    print(\"Two Distinct Real Roots Exists: root1 = %.2f and root2 = %.2f\" %(root1, root2))\n",
    "elif(discriminant == 0):\n",
    "    root1=root2=-b/2*a\n",
    "    print(\"Two Distinct Real Roots Exists: root1 = %.2f and root2 = %.2f\" %(root1, root2)) \n",
    "elif (discriminant<0):\n",
    "    root1=root2=-b/2*a\n",
    "    imaginary=math.sqrt(-discriminant)/(2*a)\n",
    "    print(\"Two Distinct Complex Roots Exists: root1 = %.2f+%.2f and root2 = %.2f-%.2f\" %(root1, imaginary, root2, imaginary))                             "
   ]
  },
  {
   "cell_type": "markdown",
   "metadata": {},
   "source": [
    "19.Create a Python program that checks if a given year is a century year or not using if-else"
   ]
  },
  {
   "cell_type": "code",
   "execution_count": null,
   "metadata": {},
   "outputs": [
    {
     "name": "stdout",
     "output_type": "stream",
     "text": [
      "21\n"
     ]
    }
   ],
   "source": [
    "a=int(input(\"find the century\"))\n",
    "century=a//100\n",
    "if(a%100!=0):\n",
    "    century=century+1\n",
    "print(century)"
   ]
  },
  {
   "cell_type": "markdown",
   "metadata": {},
   "source": [
    "20. Write a Python program to determine if a given number is a perfect square using if-else"
   ]
  },
  {
   "cell_type": "code",
   "execution_count": null,
   "metadata": {},
   "outputs": [],
   "source": [
    "def is_perfect_square(number):\n",
    "    if number==0 or number==1:\n",
    "        return True\n",
    "    #check if the square root is an integer\n",
    "    square_root=int(number**0.5)\n",
    "    #if the square of the square root equals the original number\n",
    "     if square_root*square_root==number:\n",
    "         return True\n",
    "     else:\n",
    "         return False\n",
    "     # Test the function\n",
    "number = int(input(\"Enter a number: \"))\n",
    "if is_perfect_square(number):\n",
    "    print(f\"{number} is a perfect square.\")\n",
    "else:\n",
    "    print(f\"{number} is not a perfect square.\")"
   ]
  },
  {
   "cell_type": "markdown",
   "metadata": {},
   "source": [
    "21. Explain the purpose of the \"continue\" and \"break\" statements within if-else loops"
   ]
  },
  {
   "cell_type": "markdown",
   "metadata": {},
   "source": [
    "Break= break statement terminate the loop immediately when its encountered.\n",
    "continue=We can use the continue statement with the for loop to skip the current iteration of the loop and jump to the next iteration. For example"
   ]
  },
  {
   "cell_type": "code",
   "execution_count": null,
   "metadata": {},
   "outputs": [
    {
     "name": "stdout",
     "output_type": "stream",
     "text": [
      "0\n",
      "1\n",
      "2\n"
     ]
    }
   ],
   "source": [
    "for i in range(5):\n",
    "    if i == 3:\n",
    "        break\n",
    "    print(i)"
   ]
  },
  {
   "cell_type": "code",
   "execution_count": null,
   "metadata": {},
   "outputs": [
    {
     "name": "stdout",
     "output_type": "stream",
     "text": [
      "0\n",
      "1\n",
      "2\n",
      "4\n"
     ]
    }
   ],
   "source": [
    "for i in range(5):\n",
    "    if i==3:\n",
    "        continue\n",
    "    print(i)"
   ]
  },
  {
   "cell_type": "markdown",
   "metadata": {},
   "source": [
    "22. Create a Python program that calculates the BMI (Body Mass Index) of a person based on their\n",
    "weight and height using if-else"
   ]
  },
  {
   "cell_type": "code",
   "execution_count": null,
   "metadata": {},
   "outputs": [
    {
     "name": "stdout",
     "output_type": "stream",
     "text": [
      "bmi calculated is 1.8\n",
      "you are underweight\n"
     ]
    }
   ],
   "source": [
    "Height = float(input(\"Please enter your height in inches: \"))\n",
    "Weight = float(input(\"Please enter your weight in pound: \"))\n",
    "BMI=Weight/(Height*Height)\n",
    "print(\"bmi calculated is\",BMI)\n",
    "if (BMI>0):\n",
    "    if (BMI<=16):\n",
    "        print(\"you are underweight\")\n",
    "    elif (BMI<=18):\n",
    "        print(\"you are underweight\")\n",
    "    elif(BMI<=25):\n",
    "        print(\"congrats you are healthy\")\n",
    "    elif(BMI<=30):\n",
    "        print(\"you are overweight\")\n",
    "    else:\n",
    "        print(\"you are very overweight\")"
   ]
  },
  {
   "cell_type": "markdown",
   "metadata": {},
   "source": [
    "23. How can you use the \"filter()\" function with if-else statements to filter elements from a list?"
   ]
  },
  {
   "cell_type": "code",
   "execution_count": null,
   "metadata": {},
   "outputs": [
    {
     "name": "stdout",
     "output_type": "stream",
     "text": [
      "[2, 4, 6, 8, 10]\n"
     ]
    }
   ],
   "source": [
    "def check_even(numbers):\n",
    "    if numbers%2==0:\n",
    "        return True\n",
    "    return False\n",
    "numbers=[1,2,3,4,5,6,7,8,9,10]\n",
    "even_numbers_iterator=filter(check_even,numbers)\n",
    "even_numbers=list(even_numbers_iterator)\n",
    "print(even_numbers)"
   ]
  },
  {
   "cell_type": "markdown",
   "metadata": {},
   "source": [
    "24. Write a Python program to determine if a given number is prime or not using if-else."
   ]
  },
  {
   "cell_type": "code",
   "execution_count": null,
   "metadata": {},
   "outputs": [
    {
     "name": "stdout",
     "output_type": "stream",
     "text": [
      "11 is prime number\n",
      "11 is prime number\n",
      "11 is prime number\n",
      "11 is prime number\n"
     ]
    }
   ],
   "source": [
    "num=11\n",
    "#if given number is greater than 1\n",
    "if num>1:\n",
    "    for i in range(2,(num//2)+1):\n",
    "        if (num%i)==0:\n",
    "            print(num,\"is not a prime number\")\n",
    "            break\n",
    "        else:\n",
    "            print(num,\"is prime number\")\n",
    "else:\n",
    "        print(num,\"is not prime number\")"
   ]
  },
  {
   "cell_type": "markdown",
   "metadata": {},
   "source": [
    "MAP FUNCTION"
   ]
  },
  {
   "cell_type": "markdown",
   "metadata": {},
   "source": [
    "1. Explain the purpose of the `map()` function in Python and provide an example of how it can be\n",
    "used to apply a function to each element of an iterable"
   ]
  },
  {
   "cell_type": "markdown",
   "metadata": {},
   "source": [
    "map in python is an function that works on as iterator to return a result  after applying a function to every item of an iterable.(tuple,list)etc\n",
    "it is used when you want to apply function to all the function are passed as arguments to the map in python"
   ]
  },
  {
   "cell_type": "code",
   "execution_count": null,
   "metadata": {},
   "outputs": [
    {
     "name": "stdout",
     "output_type": "stream",
     "text": [
      "[6, 8, 10, 12]\n"
     ]
    }
   ],
   "source": [
    "list1=[1,2,3,4]\n",
    "list2=[5,6,7,8,]\n",
    "def add(x,y):\n",
    "    return x+y\n",
    "sum_list=list(map(add,list1,list2))\n",
    "print(sum_list)"
   ]
  },
  {
   "cell_type": "markdown",
   "metadata": {},
   "source": [
    "2. Write a Python program that uses the `map()` function to square each element of a list of\n",
    "numbers"
   ]
  },
  {
   "cell_type": "code",
   "execution_count": null,
   "metadata": {},
   "outputs": [
    {
     "name": "stdout",
     "output_type": "stream",
     "text": [
      "[1, 4, 9, 16]\n"
     ]
    }
   ],
   "source": [
    "def square(n):\n",
    "    return n*n\n",
    "num=[1,2,3,4]\n",
    "result=list(map(square,num))\n",
    "print(result)"
   ]
  },
  {
   "cell_type": "markdown",
   "metadata": {},
   "source": [
    "3. How does the `map()` function differ from a list comprehension in Python, and when would you\n",
    "choose one over the other?"
   ]
  },
  {
   "cell_type": "markdown",
   "metadata": {},
   "source": [
    "list comprehension are used when a list of result is required as map only returns a map object and does not return a map object and does not return any list .map is faster in case of an already define function as lambda is required"
   ]
  },
  {
   "cell_type": "code",
   "execution_count": null,
   "metadata": {},
   "outputs": [
    {
     "name": "stdout",
     "output_type": "stream",
     "text": [
      "[4, 8, 10, 110, 14]\n"
     ]
    }
   ],
   "source": [
    "list=[2,4,5,55,7]\n",
    "l=[i*2 for i in list]\n",
    "print(l)"
   ]
  },
  {
   "cell_type": "markdown",
   "metadata": {},
   "source": [
    "4. Create a Python program that uses the `map()` function to convert a list of names to uppercase"
   ]
  },
  {
   "cell_type": "code",
   "execution_count": 1,
   "metadata": {},
   "outputs": [
    {
     "name": "stdout",
     "output_type": "stream",
     "text": [
      "original list ['mumbai indians', 'chennai super kings', 'royal challengers bangalore']\n",
      "uppercase list ['MUMBAI INDIANS', 'CHENNAI SUPER KINGS', 'ROYAL CHALLENGERS BANGALORE']\n"
     ]
    },
    {
     "name": "stdout",
     "output_type": "stream",
     "text": [
      "The history saving thread hit an unexpected error (OperationalError('database is locked')).History will not be written to the database.\n"
     ]
    }
   ],
   "source": [
    "def convert_to_uppercase(name):\n",
    "    return name.upper()\n",
    "l1=[\"mumbai indians\",\"chennai super kings\",\"royal challengers bangalore\"]\n",
    "uppercase_list=list(map(convert_to_uppercase,l1))\n",
    "print(\"original list\",l1)\n",
    "print(\"uppercase list\",uppercase_list)"
   ]
  },
  {
   "cell_type": "markdown",
   "metadata": {},
   "source": [
    "\n",
    "5. Write a Python program that uses the `map()` function to calculate the length of each word in a\n",
    "list of strings.\n"
   ]
  },
  {
   "cell_type": "code",
   "execution_count": 2,
   "metadata": {},
   "outputs": [
    {
     "name": "stdout",
     "output_type": "stream",
     "text": [
      "orignal strings ['apple', 'banana', 'orange', 'pineapple']\n",
      "word_length [5, 6, 6, 9]\n"
     ]
    }
   ],
   "source": [
    "strings=[\"apple\",\"banana\",\"orange\",\"pineapple\"]\n",
    "#use map function to calculate the len of each word\n",
    "word_length=list(map(len,strings))\n",
    "print(\"orignal strings\",strings)\n",
    "print(\"word_length\",word_length)"
   ]
  },
  {
   "cell_type": "markdown",
   "metadata": {},
   "source": [
    "6. How can you use the `map()` function to apply a custom function to elements of multiple lists\n",
    "simultaneously in Python?"
   ]
  },
  {
   "cell_type": "code",
   "execution_count": 3,
   "metadata": {},
   "outputs": [
    {
     "name": "stdout",
     "output_type": "stream",
     "text": [
      "[5, 7, 9]\n"
     ]
    }
   ],
   "source": [
    "def custom_function(x,y):\n",
    "    return x+y\n",
    "list1=[1,2,3]\n",
    "list2=[4,5,6]\n",
    "result=list(map(custom_function,list1,list2))\n",
    "print(result)"
   ]
  },
  {
   "cell_type": "code",
   "execution_count": 6,
   "metadata": {},
   "outputs": [
    {
     "name": "stdout",
     "output_type": "stream",
     "text": [
      "Celsius Temperatures: [0, 10, 20, 30, 40]\n",
      "Fahrenheit Temperatures: [32.0, 50.0, 68.0, 86.0, 104.0]\n"
     ]
    }
   ],
   "source": [
    "def celsius_to_fahrenheit(celsius):\n",
    "    return (celsius * 9/5) + 32\n",
    "celsius_temperatures = [0, 10, 20, 30, 40]\n",
    "fahrenheit_temperatures = list(map(celsius_to_fahrenheit, celsius_temperatures))\n",
    "print(\"Celsius Temperatures:\", celsius_temperatures)\n",
    "print(\"Fahrenheit Temperatures:\", fahrenheit_temperatures)"
   ]
  },
  {
   "cell_type": "markdown",
   "metadata": {},
   "source": [
    "8.Write a Python program that uses the `map()` function to round each element of a list of\n",
    "floating-point numbers to the nearest integer"
   ]
  },
  {
   "cell_type": "code",
   "execution_count": 7,
   "metadata": {},
   "outputs": [
    {
     "name": "stdout",
     "output_type": "stream",
     "text": [
      "[1, 3, 2, 3, 6]\n"
     ]
    }
   ],
   "source": [
    "def nearest_to_integers(num):\n",
    "    return round(num)\n",
    "floating_point_numbers=[1.2,3.2,2.1,3.4,5.5,]\n",
    "result=list(map(nearest_to_integers,floating_point_numbers))\n",
    "print(result)"
   ]
  },
  {
   "cell_type": "markdown",
   "metadata": {},
   "source": [
    "REDUCE"
   ]
  },
  {
   "cell_type": "markdown",
   "metadata": {},
   "source": [
    "1. What is the `reduce()` function in Python, and what module should you import to use it? Provide\n",
    "an example of its basic usage"
   ]
  },
  {
   "cell_type": "markdown",
   "metadata": {},
   "source": [
    "The reduce() function in Python is used to apply a function of two arguments cumulatively to the items of an iterable, from left to right, so as to reduce the iterable to a single value. It's part of the functools module in Python."
   ]
  },
  {
   "cell_type": "code",
   "execution_count": 9,
   "metadata": {},
   "outputs": [
    {
     "name": "stdout",
     "output_type": "stream",
     "text": [
      "15\n"
     ]
    }
   ],
   "source": [
    "from functools import reduce\n",
    "def add(x,y):\n",
    "    return x+y\n",
    "#define the list of numbers\n",
    "numbers=[1,2,3,4,5]\n",
    "#use reduce function to sum up the numbers in the list\n",
    "result=reduce(add,numbers)\n",
    "print(result)"
   ]
  },
  {
   "cell_type": "markdown",
   "metadata": {},
   "source": [
    "2.Write a Python program that uses the `reduce()` function to find the product of all elements in a\n",
    "list"
   ]
  },
  {
   "cell_type": "code",
   "execution_count": 11,
   "metadata": {},
   "outputs": [
    {
     "name": "stdout",
     "output_type": "stream",
     "text": [
      "120\n"
     ]
    }
   ],
   "source": [
    "from functools import reduce\n",
    "def product(x,y):\n",
    "    return x*y\n",
    "#define the list of numbers\n",
    "numbers=[1,2,3,4,5]\n",
    "#use reduce function to sum up the numbers in the list\n",
    "result=reduce(product,numbers)\n",
    "print(result)"
   ]
  },
  {
   "cell_type": "markdown",
   "metadata": {},
   "source": [
    "3.Create a Python program that uses `reduce()` to find the maximum element in a list of numbers"
   ]
  },
  {
   "cell_type": "code",
   "execution_count": 12,
   "metadata": {},
   "outputs": [
    {
     "name": "stdout",
     "output_type": "stream",
     "text": [
      "100\n"
     ]
    }
   ],
   "source": [
    "def maximum_element(x,y):\n",
    "    return x if x>y else y\n",
    "numbers=[5,8,12,18,100]\n",
    "maximum_numbers=reduce(maximum_element,numbers)\n",
    "print(maximum_numbers)"
   ]
  },
  {
   "cell_type": "markdown",
   "metadata": {},
   "source": [
    "4. How can you use the `reduce()` function to concatenate a list of strings into a single string?"
   ]
  },
  {
   "cell_type": "code",
   "execution_count": 13,
   "metadata": {},
   "outputs": [
    {
     "name": "stdout",
     "output_type": "stream",
     "text": [
      "hello  world\n"
     ]
    }
   ],
   "source": [
    "def concatenation_strings(x,y):\n",
    "    return x+y\n",
    "strings=[\"hello\",\" \",\" \",\"world\"]\n",
    "result=reduce(concatenation_strings,strings)\n",
    "print(result)"
   ]
  },
  {
   "cell_type": "markdown",
   "metadata": {},
   "source": [
    "5. Write a Python program that calculates the factorial of a number using the `reduce()` function"
   ]
  },
  {
   "cell_type": "code",
   "execution_count": 15,
   "metadata": {},
   "outputs": [
    {
     "name": "stdout",
     "output_type": "stream",
     "text": [
      "720\n"
     ]
    }
   ],
   "source": [
    "def factorial(n):\n",
    "    return reduce(lambda x,y :x*y ,range(1,n+1),1)\n",
    "number=int(input(\"enter any number\"))\n",
    "result=factorial(number)\n",
    "print(result)"
   ]
  },
  {
   "cell_type": "markdown",
   "metadata": {},
   "source": [
    "6,Create a Python program that uses `reduce()` to find the GCD (Greatest Common Divisor) of a list\n",
    "of numbers."
   ]
  },
  {
   "cell_type": "code",
   "execution_count": 24,
   "metadata": {},
   "outputs": [
    {
     "name": "stdout",
     "output_type": "stream",
     "text": [
      "1\n"
     ]
    }
   ],
   "source": [
    "from functools import reduce\n",
    "import math\n",
    "def gcd(x,y):\n",
    "     return math.gcd(x,y)\n",
    "numbers=[12,3,4,45,78]\n",
    "gcd_numbers=reduce(gcd,numbers)\n",
    "print(gcd_numbers)"
   ]
  },
  {
   "cell_type": "markdown",
   "metadata": {},
   "source": [
    "7. Write a Python program that uses the `reduce()` function to find the sum of the digits of a given\n",
    "number"
   ]
  },
  {
   "cell_type": "code",
   "execution_count": 26,
   "metadata": {},
   "outputs": [
    {
     "name": "stdout",
     "output_type": "stream",
     "text": [
      "254\n"
     ]
    }
   ],
   "source": [
    "def sum_off_digits(x,y):\n",
    "    return int(x)+int(y)\n",
    "number=[1,2,3,4,33,2,111,98]\n",
    "sum_number=reduce(sum_off_digits,number)\n",
    "print(sum_number)"
   ]
  },
  {
   "cell_type": "markdown",
   "metadata": {},
   "source": [
    "Filter :"
   ]
  },
  {
   "cell_type": "markdown",
   "metadata": {},
   "source": [
    "1.Explain the purpose of the `filter()` function in Python and provide an example of how it can be\n",
    "used to filter elements from an iterable"
   ]
  },
  {
   "cell_type": "markdown",
   "metadata": {},
   "source": [
    "The filter() function in Python is used to filter elements from an iterable (like lists, tuples, sets, etc.) based on a specified condition. It takes two arguments: a function that defines the filtering condition and an iterable to be filtered. It returns an iterator containing the elements from the iterable for which the function returns True."
   ]
  },
  {
   "cell_type": "code",
   "execution_count": 31,
   "metadata": {},
   "outputs": [
    {
     "name": "stdout",
     "output_type": "stream",
     "text": [
      "odd numbers list [1, 3, 5, 7]\n"
     ]
    }
   ],
   "source": [
    "def is_odd(n):\n",
    "    return n%2!=0\n",
    "list1=[1,2,3,4,5,6,7,8,]\n",
    "result=filter(is_odd,list1)\n",
    "odd_numbers_list=list(result)\n",
    "print(\"odd numbers list\",odd_numbers_list)"
   ]
  },
  {
   "cell_type": "markdown",
   "metadata": {},
   "source": [
    "2. Write a Python program that uses the `filter()` function to select even numbers from a list of\n",
    "integers."
   ]
  },
  {
   "cell_type": "code",
   "execution_count": 33,
   "metadata": {},
   "outputs": [
    {
     "name": "stdout",
     "output_type": "stream",
     "text": [
      "even numbers list [2, 4, 6, 8]\n"
     ]
    }
   ],
   "source": [
    "def is_even(n):\n",
    "    return n%2==0\n",
    "list1=[1,2,3,4,5,6,7,8,]\n",
    "result=filter(is_even,list1)\n",
    "even_numbers_list=list(result)\n",
    "print(\"even numbers list\",even_numbers_list)"
   ]
  },
  {
   "cell_type": "markdown",
   "metadata": {},
   "source": [
    "3. Create a Python program that uses the `filter()` function to select names that start with a specific\n",
    "letter from a list of strings"
   ]
  },
  {
   "cell_type": "code",
   "execution_count": 37,
   "metadata": {},
   "outputs": [
    {
     "name": "stdout",
     "output_type": "stream",
     "text": [
      "Names starting with 's':\n",
      "['subh', 'sahil garg']\n"
     ]
    }
   ],
   "source": [
    "# Define a list of names\n",
    "names = [\"Ajay\",\"subh\",\"priya\",\"vishwas\",\"sahil garg\"]\n",
    "\n",
    "# Define a function to filter names starting with a specific letter\n",
    "def starts_with(letter):\n",
    "    return lambda name: name.startswith(letter)\n",
    "\n",
    "# Specify the letter you want to filter names with\n",
    "letter_to_filter = \"s\"\n",
    "\n",
    "# Use filter() to select names starting with the specified letter\n",
    "filtered_names = filter(starts_with(letter_to_filter), names)\n",
    "\n",
    "# Convert the result into a list (filter() returns an iterator)\n",
    "filtered_names_list = list(filtered_names)\n",
    "\n",
    "print(\"Names starting with '{}':\".format(letter_to_filter))\n",
    "print(filtered_names_list)\n"
   ]
  },
  {
   "cell_type": "markdown",
   "metadata": {},
   "source": [
    "4. Write a Python program that uses the `filter()` function to select prime numbers from a list of\n",
    "integers"
   ]
  },
  {
   "cell_type": "code",
   "execution_count": 41,
   "metadata": {},
   "outputs": [
    {
     "name": "stdout",
     "output_type": "stream",
     "text": [
      "prime_numbers_list [19, 2, 2, 3, 3, 5, 17, 7]\n"
     ]
    }
   ],
   "source": [
    "def is_prime(n):\n",
    "    if n<=0:\n",
    "        return False\n",
    "    if n<=3:\n",
    "        return True\n",
    "    if n%2==0 or n%3==0:\n",
    "        return False\n",
    "    i=5\n",
    "    while i*i <=n:\n",
    "        if n % i == 0 or n % (i + 2) == 0:\n",
    "            return False\n",
    "        i += 6\n",
    "    return True\n",
    "numbers=[19,18,2,2,3,3,4,4,15,5,6,17,7,14,8,8,9,9]\n",
    "prime_numbers=filter(is_prime,numbers)\n",
    "prime_numbers_list=list(prime_numbers)\n",
    "print(\"prime_numbers_list\",prime_numbers_list)"
   ]
  },
  {
   "cell_type": "markdown",
   "metadata": {},
   "source": [
    "5. How can you use the `filter()` function to remove None values from a list in Python?"
   ]
  },
  {
   "cell_type": "code",
   "execution_count": 43,
   "metadata": {},
   "outputs": [
    {
     "name": "stdout",
     "output_type": "stream",
     "text": [
      "filtered_list [1, 2, 5]\n"
     ]
    }
   ],
   "source": [
    "#define a list\n",
    "list1=[1,2,None,5,None]\n",
    "filtered_list=list(filter(lambda x:x is not None,list1))\n",
    "\n",
    "print(\"filtered_list\",filtered_list)\n"
   ]
  },
  {
   "cell_type": "markdown",
   "metadata": {},
   "source": [
    "6. Create a Python program that uses `filter()` to select words longer than a certain length from a\n",
    "list of strings.\n"
   ]
  },
  {
   "cell_type": "code",
   "execution_count": 51,
   "metadata": {},
   "outputs": [
    {
     "name": "stdout",
     "output_type": "stream",
     "text": [
      "['banana', 'orange', 'pineapple']\n"
     ]
    }
   ],
   "source": [
    "def filter_long_words(word_list, length):\n",
    "    return list(filter(lambda word: len(word) > length, word_list))\n",
    "\n",
    "# Example usage\n",
    "word_list = [\"apple\", \"banana\", \"orange\", \"kiwi\", \"pineapple\", \"grape\"]\n",
    "min_length = 5\n",
    "\n",
    "filtered_words = filter_long_words(word_list, min_length)\n",
    "print(filtered_words)\n"
   ]
  },
  {
   "cell_type": "markdown",
   "metadata": {},
   "source": [
    "7. Write a Python program that uses the `filter()` function to select elements greater than a\n",
    "specified threshold from a list of values"
   ]
  },
  {
   "cell_type": "code",
   "execution_count": 52,
   "metadata": {},
   "outputs": [
    {
     "name": "stdout",
     "output_type": "stream",
     "text": [
      "[40, 50, 60]\n"
     ]
    }
   ],
   "source": [
    "def filter_greater_than_threshold(value_list, threshold):\n",
    "    return list(filter(lambda x: x > threshold, value_list))\n",
    "\n",
    "# Example usage\n",
    "value_list = [10, 20, 30, 40, 50, 60]\n",
    "threshold = 30\n",
    "\n",
    "filtered_values = filter_greater_than_threshold(value_list, threshold)\n",
    "print(filtered_values)\n"
   ]
  },
  {
   "cell_type": "markdown",
   "metadata": {},
   "source": [
    "Recursion:-"
   ]
  },
  {
   "cell_type": "markdown",
   "metadata": {},
   "source": [
    "1. Explain the concept of recursion in Python. How does it differ from iteration?"
   ]
  },
  {
   "cell_type": "markdown",
   "metadata": {},
   "source": [
    "Recursion is a programming technique where a function calls itself in order to solve smaller instances of the same problem. In Python, recursion allows a function to break down a problem into smaller subproblems, solving each subproblem recursively until a base case is reached where the solution can be directly calculated."
   ]
  },
  {
   "cell_type": "markdown",
   "metadata": {},
   "source": [
    "2. Write a Python program to calculate the factorial of a number using recursion"
   ]
  },
  {
   "cell_type": "code",
   "execution_count": 53,
   "metadata": {},
   "outputs": [],
   "source": [
    "def factorial(n):\n",
    "    if n == 0:\n",
    "        return 1\n",
    "    else:\n",
    "        return n * factorial(n-1)\n"
   ]
  },
  {
   "cell_type": "code",
   "execution_count": 54,
   "metadata": {},
   "outputs": [
    {
     "data": {
      "text/plain": [
       "24"
      ]
     },
     "execution_count": 54,
     "metadata": {},
     "output_type": "execute_result"
    }
   ],
   "source": [
    "factorial(4)"
   ]
  },
  {
   "cell_type": "markdown",
   "metadata": {},
   "source": [
    "3. Create a recursive Python function to find the nth Fibonacci number"
   ]
  },
  {
   "cell_type": "code",
   "execution_count": 55,
   "metadata": {},
   "outputs": [
    {
     "name": "stdout",
     "output_type": "stream",
     "text": [
      "The 6 th Fibonacci number is: 5\n"
     ]
    }
   ],
   "source": [
    "def fibonacci(n):\n",
    "    if n <= 0:\n",
    "        return \"Invalid input\"  # Fibonacci sequence is not defined for non-positive integers\n",
    "    elif n == 1:\n",
    "        return 0  # First Fibonacci number is 0\n",
    "    elif n == 2:\n",
    "        return 1  # Second Fibonacci number is 1\n",
    "    else:\n",
    "        return fibonacci(n - 1) + fibonacci(n - 2)\n",
    "\n",
    "# Example usage\n",
    "n = 6\n",
    "print(\"The\", n, \"th Fibonacci number is:\", fibonacci(n))\n"
   ]
  },
  {
   "cell_type": "markdown",
   "metadata": {},
   "source": [
    "4. Write a recursive Python function to calculate the sum of all elements in a list"
   ]
  },
  {
   "cell_type": "code",
   "execution_count": 56,
   "metadata": {},
   "outputs": [
    {
     "name": "stdout",
     "output_type": "stream",
     "text": [
      "sum of element in this list 15\n"
     ]
    }
   ],
   "source": [
    "def sum_of_list(list1):\n",
    "    if not list1:\n",
    "        return 0\n",
    "    else:\n",
    "        return list1[0]+sum_of_list(list1[1:])\n",
    "my_list=[1,2,3,4,5]\n",
    "print(\"sum of element in this list\",sum_of_list(my_list))"
   ]
  },
  {
   "cell_type": "markdown",
   "metadata": {},
   "source": [
    "5. How can you prevent a recursive function from running indefinitely, causing a stack overflow\n",
    "error?"
   ]
  },
  {
   "cell_type": "code",
   "execution_count": 1,
   "metadata": {},
   "outputs": [],
   "source": [
    "def recursive_function(n):\n",
    "    # Termination condition: If n reaches 0, stop recursion\n",
    "    if n == 0:\n",
    "        return\n",
    "    # Recursive call with reduced value of n\n",
    "    recursive_function(n - 1)\n",
    "\n",
    "# Example usage:\n",
    "recursive_function(5)\n"
   ]
  },
  {
   "cell_type": "markdown",
   "metadata": {},
   "source": [
    "6. Create a recursive Python function to find the greatest common divisor (GCD) of two numbers\n",
    "using the Euclidean algorithm."
   ]
  },
  {
   "cell_type": "code",
   "execution_count": 2,
   "metadata": {},
   "outputs": [
    {
     "name": "stdout",
     "output_type": "stream",
     "text": [
      "The GCD of 48 and 18 is 6\n"
     ]
    }
   ],
   "source": [
    "def gcd(a, b):\n",
    "    # Base case: If b is 0, then GCD(a, b) = a\n",
    "    if b == 0:\n",
    "        return a\n",
    "    # Recursive case: GCD(a, b) = GCD(b, a % b)\n",
    "    return gcd(b, a % b)\n",
    "\n",
    "# Example usage:\n",
    "num1 = 48\n",
    "num2 = 18\n",
    "print(\"The GCD of\", num1, \"and\", num2, \"is\", gcd(num1, num2))\n"
   ]
  },
  {
   "cell_type": "markdown",
   "metadata": {},
   "source": [
    "7. Write a recursive Python function to reverse a string.\n"
   ]
  },
  {
   "cell_type": "code",
   "execution_count": null,
   "metadata": {},
   "outputs": [],
   "source": [
    "def reverse_string(s):\n",
    "    # Base case: If the string is empty or has only one character, return the string itself\n",
    "    if len(s) <= 1:\n",
    "        return s\n",
    "    # Recursive case: Return the last character of the string concatenated with the reversed substring\n",
    "    return s[-1] + reverse_string(s[:-1])\n",
    "\n",
    "# Example usage:\n",
    "original_string = \"hello\"\n",
    "print(\"Original string:\", original_string)\n",
    "print(\"Reversed string:\", reverse_string(original_string))\n"
   ]
  },
  {
   "cell_type": "markdown",
   "metadata": {},
   "source": [
    "8. Create a recursive Python function to calculate the power of a number (x^n)."
   ]
  },
  {
   "cell_type": "code",
   "execution_count": 4,
   "metadata": {},
   "outputs": [
    {
     "name": "stdout",
     "output_type": "stream",
     "text": [
      "Result: 32\n"
     ]
    }
   ],
   "source": [
    "def power(x,n):\n",
    "    #base case if n is 0 return 1 (x^2=1)\n",
    "    if n==0:\n",
    "        return 1\n",
    "    #recursive call\n",
    "    temp=power(x,n//2)\n",
    "    #if n is even return temp*temp\n",
    "    if n%2==0:\n",
    "        return temp*temp\n",
    "    #if n is odd return temp*temp*x\n",
    "    else:\n",
    "        return temp*temp*x\n",
    "base = 2\n",
    "exponent = 5\n",
    "print(\"Result:\", power(base, exponent))"
   ]
  },
  {
   "cell_type": "markdown",
   "metadata": {},
   "source": [
    "9. Write a recursive Python function to find all permutations of a given string"
   ]
  },
  {
   "cell_type": "code",
   "execution_count": 14,
   "metadata": {},
   "outputs": [
    {
     "name": "stdout",
     "output_type": "stream",
     "text": [
      "permuatation of abc  : ['abc', 'acb', 'bac', 'bca', 'cab', 'cba']\n"
     ]
    }
   ],
   "source": [
    "def permutation(string):\n",
    "    if len(string)==1:\n",
    "        return [string]\n",
    "    else:\n",
    "        perms=[]\n",
    "        for char in string:\n",
    "           #genrating permutation of the string excluding the current\n",
    "           remaining_char=string.replace(char,\"\",1)\n",
    "           subperms=permutation(remaining_char)\n",
    "           # Append the current character to each permutation of the remaining characters\n",
    "           for subperm in subperms:\n",
    "               perms.append(char+subperm)\n",
    "    return perms\n",
    "#example\n",
    "input_string=\"abc\"\n",
    "print(\"permuatation of\",input_string,\" :\",permutation(input_string))\n",
    "        "
   ]
  },
  {
   "cell_type": "markdown",
   "metadata": {},
   "source": [
    "10 .Write a recursive Python function to check if a string is a palindrome"
   ]
  },
  {
   "cell_type": "code",
   "execution_count": 15,
   "metadata": {},
   "outputs": [
    {
     "name": "stdout",
     "output_type": "stream",
     "text": [
      "Is racecar a palindrome? True\n",
      "Is hello a palindrome? False\n"
     ]
    }
   ],
   "source": [
    "def is_palindrome(s):\n",
    "    # Base case: If the length of the string is 0 or 1, it's a palindrome\n",
    "    if len(s) <= 1:\n",
    "        return True\n",
    "    # Check if the first and last characters are equal\n",
    "    if s[0] == s[-1]:\n",
    "        # Recur on the substring excluding the first and last characters\n",
    "        return is_palindrome(s[1:-1])\n",
    "    else:\n",
    "        return False\n",
    "\n",
    "# Example usage:\n",
    "string1 = \"racecar\"\n",
    "string2 = \"hello\"\n",
    "print(\"Is\", string1, \"a palindrome?\", is_palindrome(string1))\n",
    "print(\"Is\", string2, \"a palindrome?\", is_palindrome(string2))\n"
   ]
  },
  {
   "cell_type": "markdown",
   "metadata": {},
   "source": [
    "11.Create a recursive Python function to generate all possible combinations of a list of elements"
   ]
  },
  {
   "cell_type": "code",
   "execution_count": 16,
   "metadata": {},
   "outputs": [
    {
     "name": "stdout",
     "output_type": "stream",
     "text": [
      "Combinations: [[], [1], [2], [1, 2], [3], [1, 3], [2, 3], [1, 2, 3]]\n"
     ]
    }
   ],
   "source": [
    "def combinations(elements):\n",
    "    if len(elements) == 0:\n",
    "        return [[]]  # Base case: Return a list containing an empty combination\n",
    "    else:\n",
    "        first = elements[0]  # Select the first element\n",
    "        rest = elements[1:]  # List of remaining elements\n",
    "        # Recursive call to generate combinations without the first element\n",
    "        combos_without_first = combinations(rest)\n",
    "        # Generate combinations with the first element by appending it to each combination without it\n",
    "        combos_with_first = []\n",
    "        for combo in combos_without_first:\n",
    "            combos_with_first.append(combo)\n",
    "            combos_with_first.append([first] + combo)\n",
    "        return combos_with_first\n",
    "\n",
    "# Example usage:\n",
    "elements = [1, 2, 3]\n",
    "print(\"Combinations:\", combinations(elements))\n"
   ]
  },
  {
   "cell_type": "markdown",
   "metadata": {},
   "source": [
    "\n",
    "Basics of Functions:"
   ]
  },
  {
   "cell_type": "markdown",
   "metadata": {},
   "source": [
    "1. What is a function in Python, and why is it used?"
   ]
  },
  {
   "cell_type": "markdown",
   "metadata": {},
   "source": [
    "In Python, a function is a block of reusable code that performs a specific task or set of tasks. It is defined using the def keyword followed by the function name, parameters (if any), and a block of code that defines what the function does. Here's the basic syntax for defining a function in Python:"
   ]
  },
  {
   "cell_type": "markdown",
   "metadata": {},
   "source": [
    "2. How do you define a function in Python? Provide an example."
   ]
  },
  {
   "cell_type": "markdown",
   "metadata": {},
   "source": [
    "In Python, you define a function using the def keyword followed by the function name and parentheses containing any parameters the function takes. The function body is then indented below the function definition. Here's a simple example of defining a function that adds two numbers:"
   ]
  },
  {
   "cell_type": "markdown",
   "metadata": {},
   "source": [
    "def is the keyword that indicates the start of a function definition.\n",
    "add_numbers is the name of the function.\n",
    "(a, b) are the parameters the function takes. They are placeholders for the values that will be passed to the function when it is called.\n",
    "return a + b is the body of the function. It performs the addition operation on the parameters a and b, and the result is returned as the output of the function."
   ]
  },
  {
   "cell_type": "code",
   "execution_count": 17,
   "metadata": {},
   "outputs": [
    {
     "name": "stdout",
     "output_type": "stream",
     "text": [
      "The sum is: 8\n"
     ]
    }
   ],
   "source": [
    "def add_numbers(x, y):\n",
    "    # Function to add two numbers\n",
    "    result = x + y\n",
    "    return result\n",
    "\n",
    "# Example usage:\n",
    "sum = add_numbers(3, 5)\n",
    "print(\"The sum is:\", sum)\n"
   ]
  },
  {
   "cell_type": "markdown",
   "metadata": {},
   "source": [
    "3. Explain the difference between a function definition and a function call"
   ]
  },
  {
   "cell_type": "markdown",
   "metadata": {},
   "source": [
    "Function Definition: When you define a function in Python, you are essentially creating a blueprint or a recipe for a particular task that you want to perform. This blueprint includes the function's name, parameters (if any), and the sequence of steps or actions that the function will execute when it is called.\n",
    "\n",
    "\n",
    "\n",
    "function call:\n",
    "Function Call: Function call, on the other hand, is the actual execution of the function's code. When you call a function, you are instructing the Python interpreter to run the sequence of steps defined within that function. During the function call, you provide the necessary arguments (if any) required by the function's parameters."
   ]
  },
  {
   "cell_type": "code",
   "execution_count": 18,
   "metadata": {},
   "outputs": [
    {
     "name": "stdout",
     "output_type": "stream",
     "text": [
      "8\n"
     ]
    }
   ],
   "source": [
    "#function call:\n",
    "result = add_numbers(3, 5)\n",
    "print(result)  # Output: 8\n",
    "\n"
   ]
  },
  {
   "cell_type": "markdown",
   "metadata": {},
   "source": [
    "4. Write a Python program that defines a function to calculate the sum of two numbers and then\n",
    "calls the function"
   ]
  },
  {
   "cell_type": "code",
   "execution_count": 23,
   "metadata": {},
   "outputs": [
    {
     "name": "stdout",
     "output_type": "stream",
     "text": [
      "output_ number : 7\n"
     ]
    }
   ],
   "source": [
    "def add_two_numbers(a,b):\n",
    "    result=a+b\n",
    "    return result\n",
    "input_numbers=add_two_numbers(3,4)\n",
    "print(\"output_ number :\",input_numbers)"
   ]
  },
  {
   "cell_type": "markdown",
   "metadata": {},
   "source": [
    "A function signature, also known as a function prototype, defines the interface of a function, specifying its name, parameters, and return type (in languages that support explicit return types). It serves as a contract that describes how the function can be called and what it returns without necessarily including the implementation details.\n",
    "\n",
    "In Python, where types are dynamically inferred, the function signature typically includes:\n",
    "\n",
    "\n",
    "\n",
    "\n",
    "\n",
    "Function Name: The name of the function that identifies it uniquely within its scope.\n",
    "\n",
    "Parameters: The list of parameters that the function takes, if any, along with their names and possibly their types. Each parameter may have a default value if it's optional.\n",
    "\n",
    "Return Type: In Python, the return type is not explicitly declared in the function signature. Instead, it's implied by the type of the value returned by the function. However, in statically typed languages like C or Java, the return type specifies the data type of the value that the function returns."
   ]
  },
  {
   "cell_type": "code",
   "execution_count": 27,
   "metadata": {},
   "outputs": [],
   "source": [
    "def calculate_sum(a:int,b:int):\n",
    " sum=a+b\n",
    " return sum"
   ]
  },
  {
   "cell_type": "markdown",
   "metadata": {},
   "source": [
    "6. Create a Python function that takes two arguments and returns their product."
   ]
  },
  {
   "cell_type": "code",
   "execution_count": 28,
   "metadata": {},
   "outputs": [
    {
     "name": "stdout",
     "output_type": "stream",
     "text": [
      "output_number 15\n"
     ]
    }
   ],
   "source": [
    "def product_two_numbers(a,b):\n",
    "    result=a*b\n",
    "    return result\n",
    "input_number=product_two_numbers(3,5)\n",
    "print(\"output_number\",input_number)"
   ]
  },
  {
   "cell_type": "markdown",
   "metadata": {},
   "source": [
    "Function Parameters and Arguments:"
   ]
  },
  {
   "cell_type": "markdown",
   "metadata": {},
   "source": [
    "1. Explain the concepts of formal parameters and actual arguments in Python functions."
   ]
  },
  {
   "cell_type": "markdown",
   "metadata": {},
   "source": [
    "Formal Parameters:\n",
    "\n",
    "Formal parameters are placeholders or variables defined in the function definition. They represent the values that the function expects to receive when it is called.\n",
    "These parameters are listed within the parentheses in the function definition and act as local variables within the function's scope.\n",
    "Formal parameters are essentially the names given to the input values that the function will work with.\n",
    "These parameters define the interface of the function, specifying what inputs the function requires to execute its task."
   ]
  },
  {
   "cell_type": "code",
   "execution_count": 29,
   "metadata": {},
   "outputs": [],
   "source": [
    "def greet(name):\n",
    "    print(\"Hello,\", name)\n",
    "\n",
    "# Here, 'name' is a formal parameter of the function 'greet'\n"
   ]
  },
  {
   "cell_type": "markdown",
   "metadata": {},
   "source": [
    "Actual Arguments:\n",
    "\n",
    "Actual arguments are the values that are passed to a function when it is called. They correspond to the formal parameters defined in the function's signature.\n",
    "These arguments can be variables, literals, expressions, or even the results of other function calls.\n",
    "Actual arguments provide the concrete data that the function will operate on when it is invoked.\n",
    "They are specified within the parentheses in the function call and are used to initialize the formal parameters inside the function.\n",
    "Actual arguments are also sometimes referred to as arguments or parameters in the context of function calls"
   ]
  },
  {
   "cell_type": "code",
   "execution_count": 30,
   "metadata": {},
   "outputs": [
    {
     "name": "stdout",
     "output_type": "stream",
     "text": [
      "Hello, Alice\n"
     ]
    }
   ],
   "source": [
    "# Here, 'Alice' is the actual argument passed to the function 'greet'\n",
    "greet(\"Alice\")\n"
   ]
  },
  {
   "cell_type": "code",
   "execution_count": null,
   "metadata": {},
   "outputs": [],
   "source": []
  }
 ],
 "metadata": {
  "kernelspec": {
   "display_name": "Python 3",
   "language": "python",
   "name": "python3"
  },
  "language_info": {
   "codemirror_mode": {
    "name": "ipython",
    "version": 3
   },
   "file_extension": ".py",
   "mimetype": "text/x-python",
   "name": "python",
   "nbconvert_exporter": "python",
   "pygments_lexer": "ipython3",
   "version": "3.11.1"
  }
 },
 "nbformat": 4,
 "nbformat_minor": 2
}
